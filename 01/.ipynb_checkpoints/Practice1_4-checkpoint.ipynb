{
 "cells": [
  {
   "cell_type": "markdown",
   "metadata": {},
   "source": [
    "# Implementation Practice.1-3\n",
    "## Forward and Backward Propagation with $y = \\theta x$"
   ]
  },
  {
   "cell_type": "markdown",
   "metadata": {},
   "source": [
    "이번 Practice1-3에서는 Practice1-2에서 다뤘던 cost를 통한 parameter update에서 for loop을 사용하지 않고 np.dot()을 이용한 Vectorization으로 코드를 작성해본다.\n",
    "\n",
    "먼저 우리가 가지고 있는 data의 shape은 다음과 같다."
   ]
  },
  {
   "cell_type": "code",
   "execution_count": 52,
   "metadata": {},
   "outputs": [
    {
     "name": "stdout",
     "output_type": "stream",
     "text": [
      "[ 0  1  2  3  4  5  6  7  8  9 10 11 12 13 14 15 16 17 18 19 20 21 22 23\n",
      " 24 25 26 27 28 29 30 31 32 33 34 35 36 37 38 39 40 41 42 43 44 45 46 47\n",
      " 48 49 50 51 52 53 54 55 56 57 58 59 60 61 62 63 64 65 66 67 68 69 70 71\n",
      " 72 73 74 75 76 77 78 79 80 81 82 83 84 85 86 87 88 89 90 91 92 93 94 95\n",
      " 96 97 98 99]\n",
      "[ 0  1  2  3  4  5  6  7  8  9 10 11 12 13 14 15 16 17 18 19 20 21 22 23\n",
      " 24 25 26 27 28 29 30 31 32 33 34 35 36 37 38 39 40 41 42 43 44 45 46 47\n",
      " 48 49 50 51 52 53 54 55 56 57 58 59 60 61 62 63 64 65 66 67 68 69 70 71\n",
      " 72 73 74 75 76 77 78 79 80 81 82 83 84 85 86 87 88 89 90 91 92 93 94 95\n",
      " 96 97 98 99]\n"
     ]
    }
   ],
   "source": [
    "import numpy as np\n",
    "import matplotlib.pyplot as plt\n",
    "import random\n",
    "%matplotlib inline\n",
    "x_data = np.arange(100)\n",
    "y_data = np.arange(100)\n",
    "\n",
    "print(x_data)\n",
    "print(y_data)"
   ]
  },
  {
   "cell_type": "markdown",
   "metadata": {},
   "source": [
    "Practice1-2에서 $l^{(1)}, l^{(2)}, l^{(3)}, l^{(4)}, l^{(5)}$를 따로 구해 cost를 구했다면 Practice1-3에서는 이 loss들을 vector로 만든 L로 구해서 cost를 구할 것이다.\n",
    "\n",
    "위의 표시와 같이 vectorized가 되지 않은 값들을 소문자, vectorization이 된 값들을 대분자로 나타내면 다음과 같은 표기가 가능하다.\n",
    "\n",
    "$ X = $ [ $x^{(1)},\\; x^{(2)},\\; x^{(3)},\\; x^{(4)},\\; x^{(5)} $ ]\n",
    "\n",
    "$ Y = $ [ $y^{(1)},\\; y^{(2)},\\; y^{(3)},\\; y^{(4)},\\; y^{(5)} $ ]\n",
    "\n",
    "$ Z_{1} = $ [ $z_{1}^{(1)},\\; z_{1}^{(2)},\\; z_{1}^{(3)},\\; z_{1}^{(4)},\\; z_{1}^{(5)} $ ]\n",
    "\n",
    "$ Z_{2} = $ [ $z_{2}^{(1)},\\; z_{2}^{(2)},\\; z_{2}^{(3)},\\; z_{2}^{(4)},\\; z_{2}^{(5)} $ ]\n",
    "\n",
    "$ L = $ [ $l^{(1)},\\; l^{(2)},\\; l^{(3)},\\; l^{(4)},\\; l^{(5)} $ ]\n",
    "\n",
    "$ dL = $ [ $dl^{(1)},\\; dl^{(2)},\\; dl^{(3)},\\; dl^{(4)},\\; dl^{(5)} $ ]\n",
    "\n",
    "$ dZ_{2} = $ [ $dz_{2}^{(1)},\\; dz_{2}^{(2)},\\; dz_{2}^{(3)},\\; dz_{2}^{(4)},\\; dz_{2}^{(5)} $ ]\n",
    "\n",
    "$ dZ_{1} = $ [ $dz_{1}^{(1)},\\; dz_{1}^{(2)},\\; dz_{1}^{(3)},\\; dz_{1}^{(4)},\\; dz_{1}^{(5)} $ ]\n",
    "\n",
    "NumPy의 연산특징을 이용해 1 epoch에 대한 위의 값들을 차례대로 구해보자."
   ]
  },
  {
   "cell_type": "code",
   "execution_count": 53,
   "metadata": {},
   "outputs": [
    {
     "name": "stdout",
     "output_type": "stream",
     "text": [
      "[0 1 2 3 4]\n"
     ]
    }
   ],
   "source": [
    "##### Your Code(Forward Propagation) #####\n",
    "class minus_node():\n",
    "    def __init__(self):\n",
    "        self.x,self.y,self.z = None,None,None\n",
    "    def forward(self,x,y):\n",
    "        self.x, self.y, self.z = x, y, x - y\n",
    "        return self.z\n",
    "    def backward(self,dL):\n",
    "        return dL, -1 * dL\n",
    "##### Your Code(Forward Propagation) #####\n",
    "class mul_node():\n",
    "    def __init__(self):\n",
    "        self.x, self.y, self.z = None, None, None\n",
    "        \n",
    "    def forward(self, x, y):\n",
    "        self.x, self.y, self.z = x, y, x*y\n",
    "        return self.z\n",
    "    def backward(self, dL):\n",
    "        return self.y*dL, self.x*dL   \n",
    "class square_node():\n",
    "    def __init__(self):\n",
    "        self.x, self.z = None, None\n",
    "    \n",
    "    def forward(self, x):\n",
    "        self.x, self.z = x, x*x\n",
    "        return self.z\n",
    "    \n",
    "    def backward(self, dL):\n",
    "        return 2*self.z*dL\n",
    "class cost_node():\n",
    "    def __init__(self):\n",
    "        self.x, self.z = None, None\n",
    "    \n",
    "    def forward(self, x):\n",
    "        self.x = x\n",
    "        self.z = np.mean(self.x)\n",
    "        return self.z\n",
    "    def backward(self):\n",
    "        return 1/len(self.x)*np.ones(shape = (len(self.x)))\n",
    "    \n",
    "##### Your Code(Backward Propagation) #####\n",
    "\n",
    "\n",
    "##### Your Code(Backward Propagation) #####\n",
    "minus = minus_node()\n",
    "test = np.array([1,2,3,4,5])\n",
    "test2 = np.array([1,1,1,1,1])\n",
    "print(minus.forward(test,test2))"
   ]
  },
  {
   "cell_type": "markdown",
   "metadata": {},
   "source": [
    "위의 코드를 이용하여 Practice1-2에서 했던 learning process를 vectorization된 형태로 구현하시오."
   ]
  },
  {
   "cell_type": "code",
   "execution_count": 61,
   "metadata": {},
   "outputs": [
    {
     "name": "stdout",
     "output_type": "stream",
     "text": [
      "[(0, 0), (1, 1), (2, 2), (3, 3), (4, 4), (5, 5), (6, 6), (7, 7), (8, 8), (9, 9), (10, 10), (11, 11), (12, 12), (13, 13), (14, 14), (15, 15), (16, 16), (17, 17), (18, 18), (19, 19), (20, 20), (21, 21), (22, 22), (23, 23), (24, 24), (25, 25), (26, 26), (27, 27), (28, 28), (29, 29), (30, 30), (31, 31), (32, 32), (33, 33), (34, 34), (35, 35), (36, 36), (37, 37), (38, 38), (39, 39), (40, 40), (41, 41), (42, 42), (43, 43), (44, 44), (45, 45), (46, 46), (47, 47), (48, 48), (49, 49), (50, 50), (51, 51), (52, 52), (53, 53), (54, 54), (55, 55), (56, 56), (57, 57), (58, 58), (59, 59), (60, 60), (61, 61), (62, 62), (63, 63), (64, 64), (65, 65), (66, 66), (67, 67), (68, 68), (69, 69), (70, 70), (71, 71), (72, 72), (73, 73), (74, 74), (75, 75), (76, 76), (77, 77), (78, 78), (79, 79), (80, 80), (81, 81), (82, 82), (83, 83), (84, 84), (85, 85), (86, 86), (87, 87), (88, 88), (89, 89), (90, 90), (91, 91), (92, 92), (93, 93), (94, 94), (95, 95), (96, 96), (97, 97), (98, 98), (99, 99)]\n"
     ]
    },
    {
     "name": "stderr",
     "output_type": "stream",
     "text": [
      "D:\\Anaconda3\\lib\\site-packages\\ipykernel_launcher.py:25: RuntimeWarning: overflow encountered in multiply\n",
      "D:\\Anaconda3\\lib\\site-packages\\ipykernel_launcher.py:16: RuntimeWarning: invalid value encountered in multiply\n",
      "  app.launch_new_instance()\n"
     ]
    },
    {
     "data": {
      "text/plain": [
       "Text(0.5, 1.0, '$\\\\theta$')"
      ]
     },
     "execution_count": 61,
     "metadata": {},
     "output_type": "execute_result"
    },
    {
     "data": {
      "image/png": "[encoded data removed]",
      "text/plain": [
       "<Figure size 720x720 with 1 Axes>"
      ]
     },
     "metadata": {
      "needs_background": "light"
     },
     "output_type": "display_data"
    },
    {
     "data": {
      "image/png": "[encoded data removed]",
      "text/plain": [
       "<Figure size 720x720 with 1 Axes>"
      ]
     },
     "metadata": {
      "needs_background": "light"
     },
     "output_type": "display_data"
    }
   ],
   "source": [
    "theta = 0\n",
    "lr = 0.001\n",
    "epochs = 100\n",
    "\n",
    "z1_node = mul_node()\n",
    "z2_node = minus_node()\n",
    "z3_node = square_node()\n",
    "c_node = cost_node()\n",
    "\n",
    "loss_list = []\n",
    "theta_list = []\n",
    "xy_data = list(zip(x_data,y_data))\n",
    "print(xy_data)\n",
    "for i in range(epochs):\n",
    "    gradient_np = np.empty(0)\n",
    "    theta_np = np.empty(0)\n",
    "    batch_data = random.sample(xy_data,100)\n",
    "    batch_x , batch_y = zip(*batch_data)\n",
    "    batch_x = np.array(list(batch_x))\n",
    "    batch_y = np.array(list(batch_y))\n",
    "    \n",
    "    ##### Your Code(Forward Propagation) #####\n",
    "    z1 = z1_node.forward(batch_x,theta)\n",
    "    z2 = z2_node.forward(batch_y,z1)\n",
    "    z3 = z3_node.forward(z2)\n",
    "    \n",
    "    ##### Your Code(Forward Propagation) #####\n",
    "    \n",
    "        \n",
    "    cost = c_node.forward(z3)\n",
    "    loss_list.append(cost)\n",
    "    dz = c_node.backward()\n",
    "    \n",
    "    dz2 = z3_node.backward(dz)\n",
    "    dy, dz1 = z2_node.backward(dz2)\n",
    "    dx,dtheta = z1_node.backward(dz1)\n",
    "    theta = theta - lr*np.mean(dtheta)\n",
    "    theta_list.append(theta)\n",
    "fig, ax = plt.subplots(figsize = (10,10))\n",
    "ax.plot(loss_list)\n",
    "ax.set_title(\"loss\")\n",
    "\n",
    "fig, ax = plt.subplots(figsize = (10,10))\n",
    "ax.plot(theta_list)\n",
    "ax.set_title(r\"$\\theta$\")"
   ]
  }
 ],
 "metadata": {
  "kernelspec": {
   "display_name": "Python 3",
   "language": "python",
   "name": "python3"
  },
  "language_info": {
   "codemirror_mode": {
    "name": "ipython",
    "version": 3
   },
   "file_extension": ".py",
   "mimetype": "text/x-python",
   "name": "python",
   "nbconvert_exporter": "python",
   "pygments_lexer": "ipython3",
   "version": "3.7.4"
  }
 },
 "nbformat": 4,
 "nbformat_minor": 2
}
