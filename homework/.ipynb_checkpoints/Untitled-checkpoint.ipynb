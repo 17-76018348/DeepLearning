{
 "cells": [
  {
   "cell_type": "markdown",
   "metadata": {},
   "source": [
    "# Chapter.5 Multi-Variate Linear Regression\n",
    "\n",
    "## Programming Assignment.5-06 MVLR for several samples\n",
    "\n",
    "기존 Chapter4에서 사용했던 기존의 Model\n",
    "$$\\hat{y} = \\theta_{1}x + \\theta_{0}$$\n",
    "에서 여러개의 변수를 사용하게 되는데\n",
    "2개부터 적용하게 되면 Model은 다음과 같이\n",
    "$$\\hat{y} = \\theta_{2}x_{2} + \\theta_{1}x_{1} + \\theta_{0}$$\n",
    "가 됩니다.\n",
    "\n",
    "따라서 이번 PA 5-01에서는 다음의 단계들을 통해 $$\\hat{y} = \\theta_{2}x_{2} + \\theta_{1}x_{1} + \\theta_{0}$$에 대해 gradient descent method를 적용하여 $\\theta_{2}, \\theta_{1}, \\theta_{0}$을 학습시킵니다.\n",
    "\n",
    "<ul>\n",
    "    <li> Step.1 Dataset Preparation </li>\n",
    "    <li> Step.2 One Iteration of GDM </li>\n",
    "    <li> Step.3 Gradient Descent Method </li>\n",
    "    <li> Step.4 Predictor Visualization </li>\n",
    "</ul>\n"
   ]
  },
  {
   "cell_type": "code",
   "execution_count": 1,
   "metadata": {},
   "outputs": [],
   "source": []
  },
  {
   "cell_type": "code",
   "execution_count": 2,
   "metadata": {},
   "outputs": [],
   "source": []
  },
  {
   "cell_type": "code",
   "execution_count": null,
   "metadata": {},
   "outputs": [],
   "source": []
  }
 ],
 "metadata": {
  "kernelspec": {
   "display_name": "Python 3",
   "language": "python",
   "name": "python3"
  },
  "language_info": {
   "codemirror_mode": {
    "name": "ipython",
    "version": 3
   },
   "file_extension": ".py",
   "mimetype": "text/x-python",
   "name": "python",
   "nbconvert_exporter": "python",
   "pygments_lexer": "ipython3",
   "version": "3.7.6"
  }
 },
 "nbformat": 4,
 "nbformat_minor": 4
}
