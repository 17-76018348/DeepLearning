{
 "cells": [
  {
   "cell_type": "markdown",
   "metadata": {},
   "source": [
    "# Chapter.5 Multi-variate Linear Regression\n",
    "\n",
    "## Programming Assignment.5-01 Gradient Descent Method\n",
    "\n",
    "기존 Chapter4에서 사용했던 기존의 Model\n",
    "$$\\hat{y} = \\theta_{1}x + \\theta_{0}$$\n",
    "에서 여러개의 변수를 사용하게 되는데\n",
    "2개부터 적용하게 되면 Model은 다음과 같이\n",
    "$$\\hat{y} = \\theta_{2}x_{2} + \\theta_{1}x_{1} + \\theta_{0}$$\n",
    "가 됩니다.\n",
    "\n",
    "따라서 이번 PA 5-01에서는 다음의 단계들을 통해 $$\\hat{y} = \\theta_{2}x_{2} + \\theta_{1}x_{1} + \\theta_{0}$$에 대해 gradient descent method를 적용하여 $\\theta_{2}, \\theta_{1}, \\theta_{0}$을 학습시킵니다.\n",
    "\n",
    "<ul>\n",
    "    <li> Step.1 Dataset Preparation </li>\n",
    "    <li> Step.2 One Iteration of GDM </li>\n",
    "    <li> Step.3 Gradient Descent Method </li>\n",
    "    <li> Step.4 Predictor Visualization </li>\n",
    "</ul>\n"
   ]
  },
  {
   "cell_type": "code",
   "execution_count": 9,
   "metadata": {},
   "outputs": [],
   "source": [
    "import numpy as np\n",
    "import matplotlib.pyplot as plt\n",
    "import matplotlib.cm as cm\n",
    "\n",
    "\n",
    "import os\n",
    "import sys\n",
    "utils_path = os.path.dirname(os.path.abspath(__name__)) + '/../utils/'\n",
    "if utils_path not in sys.path:    \n",
    "    sys.path.append(utils_path)\n",
    "\n",
    "from LR_dataset_generator import LR_dataset_generator\n",
    "\n",
    "plt.style.use('seaborn')\n",
    "np.random.seed(0)"
   ]
  },
  {
   "cell_type": "markdown",
   "metadata": {},
   "source": [
    "***\n",
    "## Step.1 Dataset Preparation\n",
    "\n",
    "MVLR을 위한 dataset은\n",
    "$$y = ax_{2} + bx_{1} + c$$\n",
    "에서부터 만들어집니다\n",
    "\n",
    "$$y = 2x_{2} - 1x_{1} + 3$$\n",
    "에서 200개의 data sample을 가지는 dataset을 만드는 코드입니다\n",
    "<br> mean의 경우 0으로 지정하고 standard deviation은 1로 설정합니다"
   ]
  },
  {
   "cell_type": "markdown",
   "metadata": {},
   "source": [
    "기존 과제 폴더의 utils 폴더에서 사용중인 LR_dataset_generator.py <br>\n",
    "def make_dataset의 코드를 조금 변경해 줍니다<br><br>\n",
    "마지막 2줄을<br><br>\n",
    "self._dataset = np.hstack((x_data, y_data))<br>\n",
    "return self._dataset<br><br>\n",
    "\n",
    "다음과 같이 바꾸어 줍니다<br>\n",
    "\n",
    "return x_data, y_data<br>"
   ]
  },
  {
   "cell_type": "code",
   "execution_count": 10,
   "metadata": {},
   "outputs": [
    {
     "name": "stdout",
     "output_type": "stream",
     "text": [
      "(200, 4)\n"
     ]
    }
   ],
   "source": [
    "n_sample = 200\n",
    "coefficient_list = [3, -1, 2]\n",
    "\n",
    "data_gen = LR_dataset_generator(feature_dim = 2)\n",
    "data_gen.set_n_sample(n_sample)\n",
    "distribution_params = {\n",
    "    '0': {'mean':0, 'std':1},\n",
    "    '1': {'mean':0, 'std':1}\n",
    "}\n",
    "data_gen.set_coefficient(coefficient_list)\n",
    "x_data, y_data = data_gen.make_dataset()\n",
    "dataset = np.hstack((x_data, y_data))\n",
    "\n",
    "print(dataset.shape)\n",
    "\n"
   ]
  },
  {
   "cell_type": "markdown",
   "metadata": {},
   "source": [
    "***\n",
    "**Programming**  \n",
    "위의 코드를 이용하여\n",
    "$$y = 5x_{2} - 3x_{1} + 7$$\n",
    "에서부터 700개의 data sample을 가지는 dataset을 만드세요.<br>\n",
    "mean은 0으로 standard deviation는 1로 설정합니다"
   ]
  },
  {
   "cell_type": "code",
   "execution_count": 11,
   "metadata": {},
   "outputs": [
    {
     "name": "stdout",
     "output_type": "stream",
     "text": [
      "(700, 4)\n"
     ]
    }
   ],
   "source": [
    "##### Start Your Code(Learning Preparation) #####\n",
    "n_sample = \n",
    "coefficient_list = \n",
    "\n",
    "x_data, y_data = data_gen.make_dataset()\n",
    "dataset = np.hstack((x_data, y_data))\n",
    "##### End Your Code(Learning Preparation) #####\n",
    "print(dataset.shape)"
   ]
  },
  {
   "cell_type": "markdown",
   "metadata": {},
   "source": [
    "**Expected Output**  \n",
    "(700, 4)"
   ]
  },
  {
   "cell_type": "markdown",
   "metadata": {},
   "source": [
    "***\n",
    "## Step.2 One Iteration of GDM\n",
    "\n",
    "SVLR의 predictor는 다음과 같다.\n",
    "$$\n",
    "\\hat{y} = \\theta_{2}x_{2} + \\theta_{1}x_{1} + \\theta_{0}\n",
    "$$\n",
    "\n",
    "따라서 1개의 data sample에 대한 loss는\n",
    "\n",
    "$$ \\mathcal{L}^{(i)} = (y^{(i)} - \\hat{y}^{(i)})^{2} = (y^{(i)} - (\\theta_{2}x_{2} + \\theta_{1}x_{1} + \\theta_{0}))^{2}$$\n",
    "\n",
    "이므로 $\\mathcal{L}$은 $\\theta_{2}, \\theta_{1}, \\theta_{0}$에 대한 함수이다.  \n",
    "이때 각각 $\\theta_{2}, \\theta_{1}, \\theta_{0}$에 대한 partial derivative를 구하면\n",
    "$$\n",
    "\\frac {\\partial \\mathcal{L}^{(i)}} {\\partial \\theta_{2}}\n",
    "= -2x_{2}^{(i)}(y^{(i)} - (\\theta_{2}x_{2} + \\theta_{1}x_{1} + \\theta_{0}))\n",
    "$$\n",
    "\n",
    "$$\n",
    "\\frac {\\partial \\mathcal{L}^{(i)}} {\\partial \\theta_{1}}\n",
    "= -2x_{1}^{(i)}(y^{(i)} - (\\theta_{2}x_{2} + \\theta_{1}x_{1} + \\theta_{0}))\n",
    "$$\n",
    "\n",
    "$$\n",
    "\\frac {\\partial \\mathcal{L}^{(i)}} {\\partial \\theta_{0}}\n",
    "= -2(y^{(i)} - (\\theta_{2}x_{2} + \\theta_{1}x_{1} + \\theta_{0}))\n",
    "$$\n",
    "\n",
    "이다. 위의 partial derivative를 이용하여 GDM을 적용하면 $\\theta_{1}, \\theta_{0}$은 다음과 같이 update됩니다.\n",
    "\n",
    "$$ \\theta_{1} := \\theta_{1} - \\alpha \\frac{\\partial \\mathcal{L}^{(i)}}{\\partial \\theta} \n",
    "= \\theta_{1} + 2\\alpha x^{(i)}(y^{(i)} - \\hat{y}^{(i)})$$\n",
    "\n",
    "$$ \\theta_{0} := \\theta_{0} - \\alpha \\frac{\\partial \\mathcal{L}^{(i)}}{\\partial \\theta} \n",
    "= \\theta_{0} + 2\\alpha(y^{(i)} - \\hat{y}^{(i)})$$\n",
    "\n",
    "***\n",
    "**Programming**  \n",
    "data sample에 대하여 한 번의 iteration을 연산해보세요.  \n",
    "이때 학습 조건은 다음과 같습니다.\n",
    "- initial theta2, theta1, theta0 = 1, 1\n",
    "- learning rate = 0.01\n",
    "- $x_{2}$, $x_{1}$,  y = 2, 1, 6"
   ]
  },
  {
   "cell_type": "code",
   "execution_count": 12,
   "metadata": {},
   "outputs": [
    {
     "name": "stdout",
     "output_type": "stream",
     "text": [
      "Before Update: 1 1 1\n",
      "After Update: 1.08 1.04 1.04\n"
     ]
    }
   ],
   "source": [
    "##### Start Your Code(Initial Setting) #####\n",
    "th2, th1, th0 = 1, 1, 1\n",
    "lr = 0.01\n",
    "x2 = 2\n",
    "x1 = 1\n",
    "y = 6\n",
    "\n",
    "##### End Your Code(Initial Setting) #####\n",
    "print(\"Before Update:\", th2, th1, th0)\n",
    "\n",
    "\n",
    "##### Start Your Code(Partial Derivative Calculation) #####\n",
    "pred = th2*x2 + th1*x1 + th0\n",
    "dth2 = -2*x2 * (y - pred)\n",
    "dth1 = -2*x1 * (y - pred)\n",
    "dth0 = -2 * (y - pred)\n",
    "##### Start Your Code(Partial Derivative Calculation) #####\n",
    "\n",
    "\n",
    "##### Start Your Code(Gradient Descent Method) #####\n",
    "th2 = th2 - lr*dth2\n",
    "th1 = th1 - lr*dth1\n",
    "th0 = th0 - lr*dth0\n",
    "##### Start Your Code(Gradient Descent Method) #####\n",
    "print(\"After Update:\", th2, th1, th0)"
   ]
  },
  {
   "cell_type": "markdown",
   "metadata": {},
   "source": [
    "**Expected Output**  \n",
    "Before Update: 1 1 1 \n",
    "<br>After Update: 1.08 1.04 1.04"
   ]
  },
  {
   "cell_type": "markdown",
   "metadata": {},
   "source": [
    "***\n",
    "## Step.3 Gradient Descent Method\n",
    "\n",
    "Step.3에서는 dataset에 들어있는 data sample들을 이용하여 $\\theta_{2}, \\theta_{1}, \\theta_{0}$를 학습시킵니다.\n",
    "\n",
    "***\n",
    "**Programming**  \n",
    "PA 3-01과 마찬가지로 for loop을 이용하여 data sample에 접근하고, 각 data sample에 대해 GDM을 적용하여 $\\theta_{2}, \\theta_{1}, \\theta_{0}를 학습시키세요.$  \n",
    "이때 학습 조건은 다음과 같습니다.\n",
    "- $\\theta_{2}, \\theta_{1}, \\theta_{0} = 0.1, 0.1$\n",
    "- learning rate = 0.01\n",
    "- epochs = 3\n",
    "\n",
    "학습이 끝나면 target function $y = 5x_{2} - 3x_{1} + 7$에 가까워지도록 $\\theta_{1}, \\theta_{0}$가 학습되는지 확인하세요."
   ]
  },
  {
   "cell_type": "code",
   "execution_count": 13,
   "metadata": {},
   "outputs": [
    {
     "data": {
      "image/png": "[encoded data removed]",
      "text/plain": [
       "<Figure size 1440x720 with 2 Axes>"
      ]
     },
     "metadata": {},
     "output_type": "display_data"
    }
   ],
   "source": [
    "##### Start Your Code(Learning Preparation) #####\n",
    "th2, th1, th0 = 0.1, 0.1, 0.1\n",
    "lr = 0.01\n",
    "epochs = 3\n",
    "##### End Your Code(Learning Preparation) #####\n",
    "\n",
    "th2_list, th1_list, th0_list = [], [], []\n",
    "loss_list = []\n",
    "\n",
    "for epoch in range(epochs):\n",
    "    for data_sample in dataset:\n",
    "\n",
    "        \n",
    "        ##### Start Your Code(Forward Propagation) #####\n",
    "        pred = th2*x2 + th1*x1 + th0\n",
    "        loss = np.power(y - pred, 2)\n",
    "        ##### Start Your Code(Forward Propagation) #####\n",
    "        th2_list.append(th2)\n",
    "        th1_list.append(th1)\n",
    "        th0_list.append(th0)\n",
    "        loss_list.append(loss)\n",
    "        \n",
    "        ##### Start Your Code(Gradient Descent Method) #####\n",
    "        th2 = th2 + 2*x2*lr*(y - pred)\n",
    "        th1 = th1 + 2*x1*lr*(y - pred)\n",
    "        th0 = th0 + 2*lr*(y - pred)\n",
    "        ##### Start Your Code(Gradient Descent Method) #####\n",
    "        \n",
    "        \n",
    "fig, ax = plt.subplots(2, 1, figsize = (20,10))\n",
    "ax[0].plot(th2_list, label = r'$\\theta_{2}$')\n",
    "ax[0].plot(th1_list, label = r'$\\theta_{1}$')\n",
    "ax[0].plot(th0_list, label = r'$\\theta_{0}$')\n",
    "ax[0].legend(loc = 'upper left', fontsize = 30)\n",
    "ax[1].plot(loss_list)\n",
    "ax[0].set_title(r'$\\theta$', fontsize = 30)\n",
    "ax[1].set_title(r'$\\mathcal{L}$', fontsize = 30)\n",
    "for ax_idx in range(2):\n",
    "    ax[ax_idx].tick_params(axis = 'both', labelsize = 20)"
   ]
  },
  {
   "cell_type": "code",
   "execution_count": null,
   "metadata": {},
   "outputs": [],
   "source": []
  }
 ],
 "metadata": {
  "kernelspec": {
   "display_name": "Python 3.7.6 64-bit ('ML': conda)",
   "language": "python",
   "name": "python37664bitmlconda63d4d036f3b243269c474d4202f7e655"
  },
  "language_info": {
   "codemirror_mode": {
    "name": "ipython",
    "version": 3
   },
   "file_extension": ".py",
   "mimetype": "text/x-python",
   "name": "python",
   "nbconvert_exporter": "python",
   "pygments_lexer": "ipython3",
   "version": "3.7.6"
  }
 },
 "nbformat": 4,
 "nbformat_minor": 4
}
