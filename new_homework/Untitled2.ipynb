{
 "cells": [
  {
   "cell_type": "code",
   "execution_count": 6,
   "metadata": {},
   "outputs": [],
   "source": [
    "import numpy as np\n",
    "import matplotlib.pyplot as plt\n",
    "\n",
    "import matplotlib.cm as cm\n",
    "import basic_nodes as nodes \n",
    "\n",
    "import os\n",
    "import sys\n",
    "from LR_dataset_generator import LR_dataset_generator\n",
    "np.random.seed(0)\n"
   ]
  },
  {
   "cell_type": "code",
   "execution_count": 4,
   "metadata": {},
   "outputs": [
    {
     "name": "stdout",
     "output_type": "stream",
     "text": [
      "study_hour_P: [83.89082684 63.50039866 86.75970111 98.10942726 62.43765718]\n",
      "study_hour_NP: [ 7.47241523 43.40630287  8.12464673 30.77797821  6.19099914]\n",
      "result_P: [1. 1. 1. 1. 1.]\n",
      "result_NP: [0. 0. 0. 0. 0.] \n",
      "\n",
      "study_hour_P.shape: (50,)\n",
      "study_hour_NP.shape: (50,)\n",
      "result_P.shape: (50,)\n",
      "result_NP.shape: (50,)\n"
     ]
    }
   ],
   "source": [
    "# Pass/No Pass 학생을 각각 50명씩 만들도록 세팅\n",
    "n_P, n_NP = 50, 50\n",
    "# 학생들의 최소/최대 공부시간을 hour_m, hour_M으로 만들고 decision boundary를 hour_b로 만듦\n",
    "# 즉, NP학생들은 2~4시간 공부시간을 가지고 P학생들은 4~6시간의 공부시간을 가짐\n",
    "hour_m, hour_b, hour_M = 0, 50, 100\n",
    "\n",
    "##### Your Code(Dataset Generation/Start) #####\n",
    "study_hour_P = np.random.uniform(low = hour_b, high = hour_M, size = (n_P,))\n",
    "study_hour_NP = np.random.uniform(low = hour_m, high = hour_b, size = (n_NP,))\n",
    "\n",
    "# P, NP학생들의 y값들은 각각 1, 0으로 만들어줌\n",
    "result_P = np.ones_like(study_hour_P)\n",
    "result_NP = np.zeros_like(study_hour_NP)\n",
    "##### Your Code(Dataset Generation/End) #####\n",
    "\n",
    "print(\"study_hour_P:\", study_hour_P[:5])\n",
    "print(\"study_hour_NP:\", study_hour_NP[:5])\n",
    "print(\"result_P:\", result_P[:5])\n",
    "print(\"result_NP:\", result_NP[:5], '\\n')\n",
    "print(\"study_hour_P.shape:\", study_hour_P.shape)\n",
    "print(\"study_hour_NP.shape:\", study_hour_NP.shape)\n",
    "print(\"result_P.shape:\", result_P.shape)\n",
    "print(\"result_NP.shape:\", result_NP.shape)"
   ]
  },
  {
   "cell_type": "code",
   "execution_count": 5,
   "metadata": {},
   "outputs": [
    {
     "data": {
      "image/png": "[encoded data removed]",
      "text/plain": [
       "<Figure size 864x360 with 1 Axes>"
      ]
     },
     "metadata": {
      "needs_background": "light"
     },
     "output_type": "display_data"
    }
   ],
   "source": [
    "##### Your Code(Dataset Generation/Start) #####\n",
    "x_data = np.hstack([study_hour_P,study_hour_NP])\n",
    "y_data = np.hstack([result_P,result_NP])\n",
    "##### Your Code(Dataset Generation/End) #####\n",
    "\n",
    "fig, ax = plt.subplots(figsize = (12,5))\n",
    "ax.plot(x_data[:n_P], y_data[:n_P], 'bo')\n",
    "ax.plot(x_data[n_P:], y_data[n_P:], 'ro')\n",
    "ax.grid()"
   ]
  },
  {
   "cell_type": "code",
   "execution_count": null,
   "metadata": {},
   "outputs": [],
   "source": [
    "node1 = nodes.mul_node()\n",
    "node2 = nodes.plus_node()\n",
    "node3 = nodes.minus_node()\n",
    "node4 = nodes.square_node()"
   ]
  },
  {
   "cell_type": "code",
   "execution_count": null,
   "metadata": {},
   "outputs": [],
   "source": [
    "th_list = [0.1, 0.1]\n",
    "lr = 0.01\n",
    "epoch = 1000\n",
    "cost_list = "
   ]
  },
  {
   "cell_type": "code",
   "execution_count": null,
   "metadata": {},
   "outputs": [],
   "source": []
  },
  {
   "cell_type": "code",
   "execution_count": null,
   "metadata": {},
   "outputs": [],
   "source": []
  },
  {
   "cell_type": "code",
   "execution_count": null,
   "metadata": {},
   "outputs": [],
   "source": []
  },
  {
   "cell_type": "code",
   "execution_count": null,
   "metadata": {},
   "outputs": [],
   "source": []
  },
  {
   "cell_type": "code",
   "execution_count": null,
   "metadata": {},
   "outputs": [],
   "source": []
  }
 ],
 "metadata": {
  "kernelspec": {
   "display_name": "Python 3",
   "language": "python",
   "name": "python3"
  },
  "language_info": {
   "codemirror_mode": {
    "name": "ipython",
    "version": 3
   },
   "file_extension": ".py",
   "mimetype": "text/x-python",
   "name": "python",
   "nbconvert_exporter": "python",
   "pygments_lexer": "ipython3",
   "version": "3.7.6"
  }
 },
 "nbformat": 4,
 "nbformat_minor": 4
}
