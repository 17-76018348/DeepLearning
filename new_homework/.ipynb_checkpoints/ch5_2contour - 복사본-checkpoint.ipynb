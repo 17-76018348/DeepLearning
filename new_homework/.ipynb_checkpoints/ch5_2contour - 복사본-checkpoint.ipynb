{
 "cells": [
  {
   "cell_type": "markdown",
   "metadata": {},
   "source": [
    "# Chapter.5 Single-variate Linear Regression\n",
    "\n",
    "## Programming Assignment.5-02 Loss Function with Contour Plot\n",
    "\n",
    "MVLR model\n",
    "$$\\hat{y} =\\theta_{2}x_{2} +  \\theta_{1}x_{1} + \\theta_{0}$$\n",
    "에 대한 square error loss는 다음과 같습니다.\n",
    "$$\\mathcal{L} = (y - \\hat{y})^{2} = (y - (\\theta_{2}x_{2} +  \\theta_{1}x_{1} + \\theta_{0}))^{2}$$\n",
    "즉, $\\mathcal{L}$은 $\\theta_{2}, \\theta_{1}, \\theta_{0}$에 대한 함수가 됩니다.\n",
    "\n",
    "한번에 $\\theta$간의 관계를 표현할 수 없으므로\n",
    "<br> 임의의 $\\theta$를 고정시키고\n",
    " 두개의 $\\theta$에 대해서 표현 할 것입니다"
   ]
  },
  {
   "cell_type": "code",
   "execution_count": null,
   "metadata": {},
   "outputs": [],
   "source": [
    "import numpy as np\n",
    "import matplotlib.pyplot as plt\n",
    "import matplotlib.cm as cm"
   ]
  },
  {
   "cell_type": "markdown",
   "metadata": {},
   "source": [
    "다음과 같은 식에서 데이터셋이 만들어집니다\n",
    "$$y =7x_{2} -  3x_{1} + 6$$ \n",
    "<br> 데이터셋은 한개의 샘플 {((1,2),7)} 로 가정을 한다면\n",
    "\n",
    "먼저 $\\theta_{0}$를 고정시키고 $\\theta_{2}$과 $\\theta_{1}$을 Contour Plot으로 나타냅니다\n",
    "<br>모델은 다음과 같이 $\\theta_{0}$을 고정시킨 형태로 될 것입니다\n",
    "$$\\hat{y} =\\theta_{2}x_{2} +  \\theta_{1}x_{1} + 3$$"
   ]
  },
  {
   "cell_type": "code",
   "execution_count": null,
   "metadata": {},
   "outputs": [],
   "source": [
    "##### Start Your Code(Data Sample Preparation) #####\n",
    "x2 = \n",
    "x1 = \n",
    "y = \n",
    "##### Start Your Code(Data Sample Preparation) #####\n",
    "th2_range = np.linspace(-3, 5, 100)\n",
    "th1_range = np.linspace(-3, 3, 100)\n",
    "th0_range = np.linspace(-3, 3, 100)\n",
    "\n",
    "Th2, Th1 = np.meshgrid(th2_range, th1_range)\n",
    "\n",
    "##### Start Your Code(Loss Function) #####\n",
    "loss = \n",
    "##### End Your Code(Loss Function) #####\n",
    "\n",
    "%matplotlib inline\n",
    "fig, ax = plt.subplots(figsize = (7,7))\n",
    "levels = np.geomspace(np.min(loss) + 0.01, np.max(loss), 30)\n",
    "cmap = cm.get_cmap('Reds_r', lut = len(levels))\n",
    "ax.contour(Th2, Th1, loss, levels = levels, cmap = cmap)"
   ]
  },
  {
   "cell_type": "markdown",
   "metadata": {},
   "source": [
    "**Expected Output**  \n",
    "<img src='./imgs/5_02_1.png' width = 400>"
   ]
  },
  {
   "cell_type": "markdown",
   "metadata": {},
   "source": [
    "다음은  $\\theta_{1}$를 고정시키고 $\\theta_{2}$과 $\\theta_{0}$을 Contour Plot으로 나타냅니다\n",
    "<br>모델은 다음과 같이 $\\theta_{1}$을 고정시킨 형태로 될 것입니다\n",
    "$$\\hat{y} =\\theta_{2}x_{2} -  3x_{1} + \\theta_{0}$$"
   ]
  },
  {
   "cell_type": "code",
   "execution_count": null,
   "metadata": {},
   "outputs": [],
   "source": [
    "##### Start Your Code(Data Sample Preparation) #####\n",
    "x2 = \n",
    "x1 = \n",
    "y = \n",
    "##### Start Your Code(Data Sample Preparation) #####\n",
    "th2_range = np.linspace(4, 9, 100)\n",
    "th1_range = np.linspace(-3, 3, 100)\n",
    "th0_range = np.linspace(4, 9, 100)\n",
    "\n",
    "Th2, Th0 = np.meshgrid(th2_range, th0_range)\n",
    "\n",
    "##### Start Your Code(Loss Function) #####\n",
    "loss = \n",
    "##### End Your Code(Loss Function) #####\n",
    "\n",
    "%matplotlib inline\n",
    "fig, ax = plt.subplots(figsize = (7,7))\n",
    "levels = np.geomspace(np.min(loss) + 0.01, np.max(loss), 30)\n",
    "cmap = cm.get_cmap('Reds_r', lut = len(levels))\n",
    "ax.contour(Th2, Th0, loss, levels = levels, cmap = cmap)"
   ]
  },
  {
   "cell_type": "markdown",
   "metadata": {},
   "source": [
    "**Expected Output**  \n",
    "<img src='./imgs/5_02_2.png' width = 400>"
   ]
  },
  {
   "cell_type": "markdown",
   "metadata": {},
   "source": [
    "다음은  $\\theta_{2}$를 고정시키고 $\\theta_{1}$과 $\\theta_{0}$을 Contour Plot으로 나타냅니다\n",
    "<br>모델은 다음과 같이 $\\theta_{2}$을 고정시킨 형태로 될 것입니다\n",
    "$$\\hat{y} =7x_{2} +  \\theta_{1}x_{1} + \\theta_{0}$$"
   ]
  },
  {
   "cell_type": "code",
   "execution_count": null,
   "metadata": {},
   "outputs": [],
   "source": [
    "##### Start Your Code(Data Sample Preparation) #####\n",
    "x2 = 1\n",
    "x1 = 2\n",
    "y = 7\n",
    "##### Start Your Code(Data Sample Preparation) #####\n",
    "th2_range = np.linspace(5, 8, 100)\n",
    "th1_range = np.linspace(-3, 3, 100)\n",
    "th0_range = np.linspace(-3, 3, 100)\n",
    "\n",
    "Th1, Th0 = np.meshgrid(th1_range, th0_range)\n",
    "\n",
    "##### Start Your Code(Loss Function) #####\n",
    "loss =\n",
    "##### End Your Code(Loss Function) #####\n",
    "\n",
    "%matplotlib inline\n",
    "fig, ax = plt.subplots(figsize = (7,7))\n",
    "levels = np.geomspace(np.min(loss) + 0.01, np.max(loss), 30)\n",
    "cmap = cm.get_cmap('Reds_r', lut = len(levels))\n",
    "ax.contour(Th1, Th0, loss, levels = levels, cmap = cmap)"
   ]
  },
  {
   "cell_type": "markdown",
   "metadata": {},
   "source": [
    "**Expected Output**  \n",
    "<img src='./imgs/5_02_3.png' width = 400>"
   ]
  },
  {
   "cell_type": "markdown",
   "metadata": {},
   "source": [
    "* Question<br>\n",
    "$\\theta$들간의 Contour Plot이 불균형한 경우 그 이유를 수학적으로 분석하고<br>\n",
    "어떤 데이터 샘플을 사용하는 경우 학습이 균형있게 하는지 구하시오"
   ]
  }
 ],
 "metadata": {
  "kernelspec": {
   "display_name": "Python 3",
   "language": "python",
   "name": "python3"
  },
  "language_info": {
   "codemirror_mode": {
    "name": "ipython",
    "version": 3
   },
   "file_extension": ".py",
   "mimetype": "text/x-python",
   "name": "python",
   "nbconvert_exporter": "python",
   "pygments_lexer": "ipython3",
   "version": "3.7.6"
  }
 },
 "nbformat": 4,
 "nbformat_minor": 4
}
